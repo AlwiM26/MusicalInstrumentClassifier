{
  "nbformat": 4,
  "nbformat_minor": 0,
  "metadata": {
    "colab": {
      "name": "MusicalInstrumentClassifier.ipynb",
      "provenance": []
    },
    "kernelspec": {
      "name": "python3",
      "display_name": "Python 3"
    },
    "language_info": {
      "name": "python"
    }
  },
  "cells": [
    {
      "cell_type": "code",
      "metadata": {
        "id": "A9dHqb5PiZie"
      },
      "source": [
        "import cv2\n",
        "import os\n",
        "import random\n",
        "import tensorflow as tf\n",
        "import numpy as np\n",
        "from matplotlib import pyplot as plt"
      ],
      "execution_count": null,
      "outputs": []
    },
    {
      "cell_type": "code",
      "metadata": {
        "id": "mrL8ypONiaEs"
      },
      "source": [
        "ROOTDIR = '/dataset_path'\n",
        "CATEGORIES = ['Akordion', 'Angklung', 'Kompang', 'Rebab']"
      ],
      "execution_count": null,
      "outputs": []
    },
    {
      "cell_type": "code",
      "metadata": {
        "id": "g8ZHZ7LRiaY0"
      },
      "source": [
        "training_data = [] #Create an empty list for the training data\n",
        "IMG_SIZE = 200 #Resize the image size to reduce computation\n",
        "\n",
        "for category in CATEGORIES:\n",
        "  directory = os.path.join(ROOTDIR, category)\n",
        "  class_num = CATEGORIES.index(category)\n",
        "\n",
        "  for filename in os.listdir(directory):\n",
        "    try:\n",
        "      img_arr = cv2.imread(os.path.join(directory, filename))\n",
        "      new_im = cv2.resize(img_arr, (IMG_SIZE, IMG_SIZE)) #Resize the image\n",
        "      new_im = cv2.cvtColor(new_im, cv2.COLOR_BGR2RGB) #Convert the image color\n",
        "      training_data.append([new_im, class_num])\n",
        "    except Exception as e:\n",
        "      pass"
      ],
      "execution_count": null,
      "outputs": []
    },
    {
      "cell_type": "code",
      "metadata": {
        "colab": {
          "base_uri": "https://localhost:8080/"
        },
        "id": "f2v0E_MCiabm",
        "outputId": "84478259-5e7e-41b1-e74a-d7fbd1e4e48f"
      },
      "source": [
        "random.shuffle(training_data)\n",
        "print(len(training_data))"
      ],
      "execution_count": null,
      "outputs": [
        {
          "output_type": "stream",
          "text": [
            "2000\n"
          ],
          "name": "stdout"
        }
      ]
    },
    {
      "cell_type": "code",
      "metadata": {
        "colab": {
          "base_uri": "https://localhost:8080/"
        },
        "id": "6GgYzL7viad8",
        "outputId": "9e015405-c962-408b-9898-c89349cc443b"
      },
      "source": [
        "X_training = []  # Empy list to save the feature or the image data from the training data\n",
        "y_training = []  # Empty list to save the labels from the training data\n",
        "\n",
        "X_val = []\n",
        "y_val = []\n",
        "\n",
        "X_test = []\n",
        "y_test = []\n",
        "\n",
        "for features, label in training_data[400:1680]:\n",
        "  X_training.append(features)  # Add the feature to the x\n",
        "  y_training.append(label)     # Add the label to the y \n",
        "\n",
        "\n",
        "X_training = np.array(X_training).reshape(-1, IMG_SIZE, IMG_SIZE, 3)  #Reshape the x list to the size of the new image size\n",
        "                                                    # The 1 on the last parameter is the image color channel or the image dimension\n",
        "\n",
        "for features, label in training_data[1680:2000]:\n",
        "  X_val.append(features)  # Add the feature to the x\n",
        "  y_val.append(label)     # Add the label to the y \n",
        "\n",
        "\n",
        "X_val = np.array(X_val).reshape(-1, IMG_SIZE, IMG_SIZE, 3)\n",
        "\n",
        "for features, label in training_data[:400]:\n",
        "  X_test.append(features)  # Add the feature to the x\n",
        "  y_test.append(label)     # Add the label to the y \n",
        "\n",
        "\n",
        "X_test = np.array(X_test).reshape(-1, IMG_SIZE, IMG_SIZE, 3)\n",
        "\n",
        "print(len(X_training))\n",
        "print(len(X_val))\n",
        "print(len(X_test))"
      ],
      "execution_count": null,
      "outputs": [
        {
          "output_type": "stream",
          "text": [
            "1280\n",
            "320\n",
            "400\n"
          ],
          "name": "stdout"
        }
      ]
    },
    {
      "cell_type": "code",
      "metadata": {
        "id": "ntkuKO9JigOF"
      },
      "source": [
        "#Save the training data using numpy\n",
        "\n",
        "np.save('drive/My Drive/dataset_hasil_video/Features1.npy', X_training)\n",
        "np.save('drive/My Drive/dataset_hasil_video/Labels1.npy', y_training)\n",
        "\n",
        "np.save('drive/My Drive/dataset_hasil_video/Featuresv1.npy', X_val)\n",
        "np.save('drive/My Drive/dataset_hasil_video/Labelsv1.npy', y_val)\n",
        "\n",
        "np.save('drive/My Drive/dataset_hasil_video/Featurest1.npy', X_test)\n",
        "np.save('drive/My Drive/dataset_hasil_video/Labelst1.npy', y_test)\n",
        "#X = np.load(features.npy) to load the features back"
      ],
      "execution_count": null,
      "outputs": []
    },
    {
      "cell_type": "code",
      "metadata": {
        "colab": {
          "base_uri": "https://localhost:8080/"
        },
        "id": "nQ3uDYpcigK8",
        "outputId": "d26a73d5-824a-4f5c-dd93-1a7e723ec081"
      },
      "source": [
        "xs1 = np.load('drive/My Drive/dataset_hasil_video/Features1.npy')\n",
        "ys1 = np.load('drive/My Drive/dataset_hasil_video/Labels1.npy')\n",
        "\n",
        "xv1 = np.load('drive/My Drive/dataset_hasil_video/Featuresv1.npy')\n",
        "yv1 = np.load('drive/My Drive/dataset_hasil_video/Labelsv1.npy')\n",
        "\n",
        "xt1 = np.load('drive/My Drive/dataset_hasil_video/Featurest1.npy')\n",
        "yt1 = np.load('drive/My Drive/dataset_hasil_video/Labelst1.npy')\n",
        "\n",
        "\n",
        "print(xs1.shape)\n",
        "print(xv1.shape)\n",
        "print(xt1.shape)"
      ],
      "execution_count": null,
      "outputs": [
        {
          "output_type": "stream",
          "text": [
            "(1280, 200, 200, 3)\n",
            "(320, 200, 200, 3)\n",
            "(400, 200, 200, 3)\n"
          ],
          "name": "stdout"
        }
      ]
    },
    {
      "cell_type": "code",
      "metadata": {
        "colab": {
          "base_uri": "https://localhost:8080/"
        },
        "id": "61zYJQyBigIU",
        "outputId": "370dadfa-eb4d-439b-e5de-cc775d9b13f6"
      },
      "source": [
        "model = tf.keras.models.Sequential([\n",
        "  tf.keras.layers.Conv2D(16, (3, 3), input_shape = (200, 200, 3), activation='relu'),\n",
        "  tf.keras.layers.MaxPool2D(pool_size=(2,2)),\n",
        "  \n",
        "  tf.keras.layers.Conv2D(32, (3, 3), activation='relu'),\n",
        "  tf.keras.layers.MaxPool2D(pool_size=(2,2)),\n",
        "  tf.keras.layers.Dropout(0.2),\n",
        "\n",
        "  tf.keras.layers.Flatten(),\n",
        "  tf.keras.layers.Dense(64, activation='relu'),\n",
        "  \n",
        "  tf.keras.layers.Dense(4, activation='softmax')\n",
        "])\n",
        "\n",
        "model.compile(loss='sparse_categorical_crossentropy',\n",
        "              optimizer='adam',\n",
        "              metrics=['accuracy'])\n",
        "\n",
        "model.summary()"
      ],
      "execution_count": null,
      "outputs": [
        {
          "output_type": "stream",
          "text": [
            "Model: \"sequential_5\"\n",
            "_________________________________________________________________\n",
            "Layer (type)                 Output Shape              Param #   \n",
            "=================================================================\n",
            "conv2d_10 (Conv2D)           (None, 198, 198, 16)      448       \n",
            "_________________________________________________________________\n",
            "max_pooling2d_10 (MaxPooling (None, 99, 99, 16)        0         \n",
            "_________________________________________________________________\n",
            "conv2d_11 (Conv2D)           (None, 97, 97, 32)        4640      \n",
            "_________________________________________________________________\n",
            "max_pooling2d_11 (MaxPooling (None, 48, 48, 32)        0         \n",
            "_________________________________________________________________\n",
            "dropout_5 (Dropout)          (None, 48, 48, 32)        0         \n",
            "_________________________________________________________________\n",
            "flatten_5 (Flatten)          (None, 73728)             0         \n",
            "_________________________________________________________________\n",
            "dense_10 (Dense)             (None, 64)                4718656   \n",
            "_________________________________________________________________\n",
            "dense_11 (Dense)             (None, 4)                 260       \n",
            "=================================================================\n",
            "Total params: 4,724,004\n",
            "Trainable params: 4,724,004\n",
            "Non-trainable params: 0\n",
            "_________________________________________________________________\n"
          ],
          "name": "stdout"
        }
      ]
    },
    {
      "cell_type": "code",
      "metadata": {
        "colab": {
          "base_uri": "https://localhost:8080/"
        },
        "id": "NubkQlwuigFc",
        "outputId": "4ac3ff36-dbb9-4346-8583-5837daabe646"
      },
      "source": [
        "history = model.fit(xs1, ys1, validation_data=(xv1, yv1), epochs=15)"
      ],
      "execution_count": null,
      "outputs": [
        {
          "output_type": "stream",
          "text": [
            "Epoch 1/15\n",
            "40/40 [==============================] - 34s 830ms/step - loss: 452.3087 - accuracy: 0.4870 - val_loss: 0.5646 - val_accuracy: 0.9187\n",
            "Epoch 2/15\n",
            "40/40 [==============================] - 33s 839ms/step - loss: 0.3708 - accuracy: 0.9264 - val_loss: 0.2355 - val_accuracy: 0.9625\n",
            "Epoch 3/15\n",
            "40/40 [==============================] - 33s 826ms/step - loss: 0.1485 - accuracy: 0.9664 - val_loss: 0.1727 - val_accuracy: 0.9750\n",
            "Epoch 4/15\n",
            "40/40 [==============================] - 33s 829ms/step - loss: 0.0481 - accuracy: 0.9871 - val_loss: 0.1260 - val_accuracy: 0.9750\n",
            "Epoch 5/15\n",
            "40/40 [==============================] - 33s 823ms/step - loss: 0.0184 - accuracy: 0.9974 - val_loss: 0.0573 - val_accuracy: 0.9875\n",
            "Epoch 6/15\n",
            "40/40 [==============================] - 33s 823ms/step - loss: 0.0090 - accuracy: 1.0000 - val_loss: 0.0475 - val_accuracy: 0.9906\n",
            "Epoch 7/15\n",
            "40/40 [==============================] - 34s 839ms/step - loss: 0.0059 - accuracy: 0.9993 - val_loss: 0.0516 - val_accuracy: 0.9906\n",
            "Epoch 8/15\n",
            "40/40 [==============================] - 34s 843ms/step - loss: 0.0066 - accuracy: 0.9983 - val_loss: 0.0646 - val_accuracy: 0.9906\n",
            "Epoch 9/15\n",
            "40/40 [==============================] - 33s 838ms/step - loss: 0.0046 - accuracy: 1.0000 - val_loss: 0.0559 - val_accuracy: 0.9906\n",
            "Epoch 10/15\n",
            "40/40 [==============================] - 33s 837ms/step - loss: 0.0033 - accuracy: 1.0000 - val_loss: 0.0289 - val_accuracy: 0.9906\n",
            "Epoch 11/15\n",
            "40/40 [==============================] - 33s 824ms/step - loss: 0.0025 - accuracy: 1.0000 - val_loss: 0.0283 - val_accuracy: 0.9906\n",
            "Epoch 12/15\n",
            "40/40 [==============================] - 33s 837ms/step - loss: 0.0022 - accuracy: 1.0000 - val_loss: 0.0243 - val_accuracy: 0.9906\n",
            "Epoch 13/15\n",
            "40/40 [==============================] - 33s 832ms/step - loss: 0.0020 - accuracy: 1.0000 - val_loss: 0.0236 - val_accuracy: 0.9906\n",
            "Epoch 14/15\n",
            "40/40 [==============================] - 33s 831ms/step - loss: 0.0016 - accuracy: 1.0000 - val_loss: 0.0251 - val_accuracy: 0.9906\n",
            "Epoch 15/15\n",
            "40/40 [==============================] - 33s 823ms/step - loss: 9.3209e-04 - accuracy: 1.0000 - val_loss: 0.0253 - val_accuracy: 0.9906\n"
          ],
          "name": "stdout"
        }
      ]
    },
    {
      "cell_type": "code",
      "metadata": {
        "colab": {
          "base_uri": "https://localhost:8080/",
          "height": 499
        },
        "id": "lAkcerissYfb",
        "outputId": "61867964-46bb-4542-e549-f47afc887d93"
      },
      "source": [
        "acc = history.history['accuracy']\n",
        "val_acc = history.history['val_accuracy']\n",
        "\n",
        "loss=history.history['loss']\n",
        "val_loss=history.history['val_loss']\n",
        "\n",
        "epochs_range = range(15)\n",
        "\n",
        "plt.figure(figsize=(8, 8))\n",
        "plt.subplot(1, 2, 1)\n",
        "plt.plot(epochs_range, acc, label='Training Accuracy')\n",
        "plt.plot(epochs_range, val_acc, label='Validation Accuracy')\n",
        "plt.legend(loc='lower right')\n",
        "plt.title('Training and Validation Accuracy')\n",
        "\n",
        "plt.subplot(1, 2, 2)\n",
        "plt.plot(epochs_range, loss, label='Training Loss')\n",
        "plt.plot(epochs_range, val_loss, label='Validation Loss')\n",
        "plt.legend(loc='upper right')\n",
        "plt.title('Training and Validation Loss')\n",
        "plt.show()"
      ],
      "execution_count": null,
      "outputs": [
        {
          "output_type": "display_data",
          "data": {
            "image/png": "[encoded data removed]",
            "text/plain": [
              "<Figure size 576x576 with 2 Axes>"
            ]
          },
          "metadata": {
            "tags": [],
            "needs_background": "light"
          }
        }
      ]
    },
    {
      "cell_type": "code",
      "metadata": {
        "id": "KPCKTWUUsYwJ"
      },
      "source": [
        "model.save('MIC.h5')"
      ],
      "execution_count": null,
      "outputs": []
    }
  ]
}